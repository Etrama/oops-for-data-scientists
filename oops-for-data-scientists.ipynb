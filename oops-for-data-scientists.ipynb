{
 "cells": [
  {
   "cell_type": "markdown",
   "metadata": {},
   "source": [
    "There are 4 principles of OOPs that everyone is expected to know. I used to be one of those people who thought that it was enough to know how to read and write OOPs code without actually knowing what those principles were as I thought they were more of a software engineering concept. But it makes sense to be aware of the common terms and verbalizations of the concepts within OOPs. \n",
    "\n",
    "Some Data Science and Machine Learning interviews will also test your OOPs knowledge. This post is an attempt to prepare you for those interviews. After all, failing to prepare is preparing to fail, right? (ᵔᴥᵔ)\n",
    "\n",
    "Along the way we will also look at a couple of tricks and tips to help you code more easily. For now, we'll start with some an import:"
   ]
  },
  {
   "cell_type": "code",
   "execution_count": 3,
   "metadata": {},
   "outputs": [],
   "source": [
    "import random"
   ]
  },
  {
   "cell_type": "markdown",
   "metadata": {},
   "source": [
    "First things first, the 4 principles of OOPs are:\n",
    "- **A**bstraction\n",
    "- **E**ncapsulation\n",
    "- **I**nheritance\n",
    "- **P**olymorphism  "
   ]
  },
  {
   "cell_type": "markdown",
   "metadata": {},
   "source": [
    "If you need a mnemonic to remember them:  \n",
    "    **AEIP** = **A**stronauts **E**xplore **I**nvisible **P**lanets."
   ]
  },
  {
   "cell_type": "markdown",
   "metadata": {},
   "source": [
    "## Classes"
   ]
  },
  {
   "cell_type": "markdown",
   "metadata": {},
   "source": [
    "Let's make sure we have the basics of a class down. A class is a blueprint. The best example I could come up with for classes as a blueprint was to illustrate with a pokemon class:"
   ]
  },
  {
   "cell_type": "code",
   "execution_count": 2,
   "metadata": {},
   "outputs": [],
   "source": [
    "class Pokemon:\n",
    "    pass"
   ]
  },
  {
   "cell_type": "markdown",
   "metadata": {},
   "source": [
    "This class is pretty sad and does nothing. Let's rectify that. If you've ever played any pokemon based games, you know that each pokemon has its own Attack, Special Attack, Defense and Special Defense. Let's add those to our class."
   ]
  },
  {
   "cell_type": "code",
   "execution_count": 3,
   "metadata": {},
   "outputs": [],
   "source": [
    "class Pokemon:\n",
    "    def __init__(self):\n",
    "        self.attack = 0\n",
    "        self.special_attack = 0\n",
    "        self.defense = 0\n",
    "        self.special_defense = 0"
   ]
  },
  {
   "cell_type": "code",
   "execution_count": 103,
   "metadata": {},
   "outputs": [],
   "source": [
    "pikachu = Pokemon()"
   ]
  },
  {
   "cell_type": "markdown",
   "metadata": {},
   "source": [
    "Throughout this post, we will refer to instances and objects and they mean one and the same thing, an instance / object of a class. \"pikachu\" is an instance or object of the Pokemon class."
   ]
  },
  {
   "cell_type": "markdown",
   "metadata": {},
   "source": [
    "## Know thy \"self\" 😉"
   ]
  },
  {
   "cell_type": "markdown",
   "metadata": {},
   "source": [
    "Something that not everyone knows about the \"self\" keyword is that it doesn't have to be self at all. It can be anything, as long as we are consistent about it:"
   ]
  },
  {
   "cell_type": "code",
   "execution_count": 9,
   "metadata": {},
   "outputs": [],
   "source": [
    "class Pokemon_not_self:\n",
    "    def __init__(not_self):\n",
    "        not_self.attack = 10\n",
    "        not_self.special_attack = 10\n",
    "        not_self.defense = 10\n",
    "        not_self.special_defense = 10"
   ]
  },
  {
   "cell_type": "code",
   "execution_count": 10,
   "metadata": {},
   "outputs": [
    {
     "data": {
      "text/plain": [
       "10"
      ]
     },
     "execution_count": 10,
     "metadata": {},
     "output_type": "execute_result"
    }
   ],
   "source": [
    "example = Pokemon_not_self()\n",
    "example.attack"
   ]
  },
  {
   "cell_type": "markdown",
   "metadata": {},
   "source": [
    "Though it is probably best to use the \"self\" keyword, as it is the convention and might confuse other people who are reading your code. Code is read more than it is written, so better follow the convention that helps readability. Let's make the Pokemon class a little more fun by randomly allowing created pokemons (pokemon objects) to be shiny. Then we'll jump into Inheritance."
   ]
  },
  {
   "cell_type": "code",
   "execution_count": 22,
   "metadata": {},
   "outputs": [],
   "source": [
    "class Pokemon:\n",
    "    type = 'normal'\n",
    "    def __init__(self):\n",
    "        self.attack = random.randint(0, 100)\n",
    "        self.special_attack = random.randint(0, 100)\n",
    "        self.defense = random.randint(0, 100)\n",
    "        self.special_defense = random.randint(0, 100)\n",
    "        self.hp = 100\n",
    "        self.shiny = random.choices([True, False], weights=[0.0001, 0.9999], k=1)[0]"
   ]
  },
  {
   "cell_type": "markdown",
   "metadata": {},
   "source": [
    "## Inheritance"
   ]
  },
  {
   "cell_type": "markdown",
   "metadata": {},
   "source": [
    "Inheritance is the easiest to explain and understand, so let's start there. Let's say we want to create a class for each type (fire, water, grass, etc.) of pokemon. We can do that by inheriting from the Pokemon class:"
   ]
  },
  {
   "cell_type": "code",
   "execution_count": 26,
   "metadata": {},
   "outputs": [],
   "source": [
    "class PokemonFireType(Pokemon):\n",
    "    type = 'fire'"
   ]
  },
  {
   "cell_type": "markdown",
   "metadata": {},
   "source": [
    "So, let's say I create a Ratata, a normal typle pokemon and charmander, a fire type pokemon using the appropriate classes:"
   ]
  },
  {
   "cell_type": "code",
   "execution_count": 27,
   "metadata": {},
   "outputs": [
    {
     "name": "stdout",
     "output_type": "stream",
     "text": [
      "normal\n",
      "attack : 52\n",
      "special_attack : 25\n",
      "defense : 34\n",
      "special_defense : 68\n",
      "hp : 100\n",
      "shiny : False\n"
     ]
    }
   ],
   "source": [
    "ratata = Pokemon()\n",
    "print(ratata.type)\n",
    "for property in vars(ratata):\n",
    "    print(property, ':', vars(ratata)[property])"
   ]
  },
  {
   "cell_type": "code",
   "execution_count": 28,
   "metadata": {},
   "outputs": [
    {
     "name": "stdout",
     "output_type": "stream",
     "text": [
      "fire\n",
      "attack : 87\n",
      "special_attack : 46\n",
      "defense : 32\n",
      "special_defense : 11\n",
      "hp : 100\n",
      "shiny : False\n"
     ]
    }
   ],
   "source": [
    "charmander = PokemonFireType()\n",
    "print(charmander.type)\n",
    "for property in vars(charmander):\n",
    "    print(property, ':', vars(charmander)[property])"
   ]
  },
  {
   "cell_type": "markdown",
   "metadata": {},
   "source": [
    "Even though we didn't define all the attributes for the PokemonTypeFire class, i.e. we didn't state that an instance of the PokemonFireType class would have attack, defense, .., shiny attributes, we see that it still does, because the PokemonTypeFire class inherited from the Pokemon class."
   ]
  },
  {
   "cell_type": "markdown",
   "metadata": {},
   "source": [
    "### Looping through instance attributes"
   ]
  },
  {
   "cell_type": "markdown",
   "metadata": {},
   "source": [
    "Another little nuance, you can access the attribute values of an instance like so:"
   ]
  },
  {
   "cell_type": "code",
   "execution_count": 32,
   "metadata": {},
   "outputs": [
    {
     "name": "stdout",
     "output_type": "stream",
     "text": [
      "attribute1 : 1\n",
      "attribute2 : 2\n",
      "attribute3 : 3\n"
     ]
    }
   ],
   "source": [
    "class MyClass:\n",
    "    def __init__(self):\n",
    "        self.attribute1 = 1\n",
    "        self.attribute2 = 2\n",
    "        self.attribute3 = 3\n",
    "\n",
    "object = MyClass()\n",
    "\n",
    "for property in vars(object):\n",
    "    print(property, ':', vars(object)[property])\n"
   ]
  },
  {
   "cell_type": "markdown",
   "metadata": {},
   "source": [
    "I already feel more like a Software Enginner. Let's move on to the next principle."
   ]
  },
  {
   "cell_type": "markdown",
   "metadata": {},
   "source": [
    "## Polymorphism"
   ]
  },
  {
   "cell_type": "markdown",
   "metadata": {},
   "source": [
    "Poly = many, morph = forms. Polymorphism is the ability of an object to take on many forms. Say we have the following scenario (changing the class names a bit for consistency):"
   ]
  },
  {
   "cell_type": "code",
   "execution_count": 18,
   "metadata": {},
   "outputs": [],
   "source": [
    "class PokemonNormalType:\n",
    "    type = 'normal'\n",
    "    def __init__(self):\n",
    "        self.attack = random.randint(0, 100)\n",
    "        self.special_attack = random.randint(0, 100)\n",
    "        self.defense = random.randint(0, 100)\n",
    "        self.special_defense = random.randint(0, 100)\n",
    "        self.hp = 100\n",
    "        self.shiny = random.choices([True, False], weights=[0.0001, 0.9999], k=1)[0]\n",
    "        self.default_attack = \"tackle\"\n",
    "\n",
    "class PokemonFireType(PokemonNormalType):\n",
    "    type = 'fire'\n",
    "    def __init__(self):\n",
    "        self.default_attack = \"ember\"\n",
    "\n",
    "class PokemonWaterType(PokemonNormalType):\n",
    "    type = 'water'\n",
    "    def __init__(self):\n",
    "        self.default_attack = \"water-gun\"\n",
    "\n",
    "class PokemonGrassType(PokemonNormalType):\n",
    "    type = 'grass'\n",
    "    def __init__(self):\n",
    "        self.default_attack = \"razor-leaf\""
   ]
  },
  {
   "cell_type": "markdown",
   "metadata": {},
   "source": [
    "Given the above class definitions, we can retrieve their types and default attacks with a single function:"
   ]
  },
  {
   "cell_type": "code",
   "execution_count": 19,
   "metadata": {},
   "outputs": [],
   "source": [
    "ratata = PokemonNormalType()\n",
    "charmander = PokemonFireType()\n",
    "squirtle = PokemonWaterType()\n",
    "bulbasaur = PokemonGrassType()\n",
    "pokemons = [ratata, charmander, squirtle, bulbasaur]"
   ]
  },
  {
   "cell_type": "code",
   "execution_count": 20,
   "metadata": {},
   "outputs": [
    {
     "name": "stdout",
     "output_type": "stream",
     "text": [
      "Current pokemon type is normal and default attack is tackle\n",
      "Current pokemon type is fire and default attack is ember\n",
      "Current pokemon type is water and default attack is water-gun\n",
      "Current pokemon type is grass and default attack is razor-leaf\n"
     ]
    }
   ],
   "source": [
    "for pokemon in pokemons:\n",
    "    print(f\"Current pokemon type is {pokemon.type} and default attack is {pokemon.default_attack}\")"
   ]
  },
  {
   "cell_type": "markdown",
   "metadata": {},
   "source": [
    "The same object attribute / class property and even functions can take on different forms depending on the class that is calling it. This is polymorphism. Let's see a different example:"
   ]
  },
  {
   "cell_type": "code",
   "execution_count": 22,
   "metadata": {},
   "outputs": [],
   "source": [
    "class PokemonBasic:\n",
    "    def __init__(self):\n",
    "        self.height = random.randint(50, 200) # in cm\n",
    "        self.weight = random.randint(10, 100) # in kgs\n",
    "        self.hp = 100\n",
    "\n",
    "class DigimonBasic:\n",
    "    def __init__(self):\n",
    "        self.height = random.randint(250, 350) # in cm\n",
    "        self.weight = random.randint(200, 300) # in kgs\n",
    "        self.hp = 99"
   ]
  },
  {
   "cell_type": "code",
   "execution_count": 23,
   "metadata": {},
   "outputs": [
    {
     "name": "stdout",
     "output_type": "stream",
     "text": [
      "Height is 170 cm and weight is 86 kgs\n",
      "Height is 257 cm and weight is 222 kgs\n"
     ]
    }
   ],
   "source": [
    "pikachu = PokemonBasic()\n",
    "agumon = DigimonBasic()\n",
    "all_the_mons = [pikachu, agumon]\n",
    "for mon in all_the_mons:\n",
    "    print(f\"Height is {mon.height} cm and weight is {mon.weight} kgs\")"
   ]
  },
  {
   "cell_type": "markdown",
   "metadata": {},
   "source": [
    "There are two kinds of polymorphism when it comes to class methods:\n",
    "- Method Overloading  \n",
    "- Method Overriding<br>\n"
   ]
  },
  {
   "cell_type": "markdown",
   "metadata": {},
   "source": [
    "### Method Overriding"
   ]
  },
  {
   "cell_type": "markdown",
   "metadata": {},
   "source": [
    "Method Overriding is similar to what we already did before with instance attributes and class properties, just overriding methods instead. Override is the same as an overwrite, we write over the previously defined method with a newly defined method. Let's look at an example:"
   ]
  },
  {
   "cell_type": "code",
   "execution_count": 24,
   "metadata": {},
   "outputs": [],
   "source": [
    "class PokemonNormalType:\n",
    "    def __init__(self):\n",
    "        self.hp = 100\n",
    "    def speak(self, sound):\n",
    "        print(f\"{sound[:4]}-{sound[4:]}!\") # rata-ta!\n",
    "\n",
    "class PokemonFireType(PokemonNormalType):\n",
    "    def speak(self, sound):\n",
    "        print(f\"{sound[:4]}-{sound[:4]}!\") # char-char!\n",
    "\n",
    "class PokemonElectricType(PokemonNormalType):\n",
    "    def speak(self, sound):\n",
    "        print(f\"{sound[:4]}-{sound[:2]}!\") # pika-pi!"
   ]
  },
  {
   "cell_type": "code",
   "execution_count": 25,
   "metadata": {},
   "outputs": [],
   "source": [
    "ratata = PokemonNormalType()\n",
    "charmander = PokemonFireType()\n",
    "pikachu = PokemonElectricType()\n",
    "pokemons = [ratata, charmander, pikachu]\n",
    "sounds = [\"ratata\", \"charmander\", \"pikachu\"]"
   ]
  },
  {
   "cell_type": "code",
   "execution_count": 26,
   "metadata": {},
   "outputs": [
    {
     "name": "stdout",
     "output_type": "stream",
     "text": [
      "rata-ta!\n",
      "char-char!\n",
      "pika-pi!\n"
     ]
    }
   ],
   "source": [
    "for index, pokemon in enumerate(pokemons):\n",
    "    pokemon.speak(sounds[index])"
   ]
  },
  {
   "cell_type": "markdown",
   "metadata": {},
   "source": [
    "The method \"speak\" is overidden. The subclass PokemonFireType has its own speak method, which overrides the speak method of the parent PokemonNormalType class. The same thing happens vis-a-vis the PokemonElectricType and PokemonNormalType classes."
   ]
  },
  {
   "cell_type": "markdown",
   "metadata": {},
   "source": [
    "This overriding is evident when we look at the different outputs produced by the speak method run on the different instances."
   ]
  },
  {
   "cell_type": "markdown",
   "metadata": {},
   "source": [
    "Other languages (I'm looking at you, Java and C++), also have the concept of Method Overloading, where we can use the same method with a different number of arguments. For example:"
   ]
  },
  {
   "cell_type": "code",
   "execution_count": 52,
   "metadata": {},
   "outputs": [],
   "source": [
    "class PokeBag:\n",
    "    def __init__(self):\n",
    "        self.pokemons = []\n",
    "    def add_pokemon(self, pokemon):\n",
    "        self.pokemons.append(pokemon)\n",
    "    def add_pokemon(self, pokemon1, pokemon2):\n",
    "        self.pokemons.append(pokemon1)\n",
    "        self.pokemons.append(pokemon2)"
   ]
  },
  {
   "cell_type": "markdown",
   "metadata": {},
   "source": [
    "We could define a PokeBag class with the appropriate syntax in Java and it would work. But in Python, the latest method will override the previous declaration of that method. So, when we try to use the previous declaration of that method within Python, it will error out :"
   ]
  },
  {
   "cell_type": "code",
   "execution_count": 93,
   "metadata": {},
   "outputs": [
    {
     "name": "stdout",
     "output_type": "stream",
     "text": [
      "Exception PokeBag.add_pokemon() missing 1 required positional argument: 'pokemon2'\n"
     ]
    }
   ],
   "source": [
    "bag = PokeBag()\n",
    "try:\n",
    "    bag.add_pokemon(\"ratata\")\n",
    "except Exception as e:\n",
    "    print(f\"Exception {e}\")"
   ]
  },
  {
   "cell_type": "markdown",
   "metadata": {},
   "source": [
    "However, if we use the newly defined method, it will work:"
   ]
  },
  {
   "cell_type": "code",
   "execution_count": 29,
   "metadata": {},
   "outputs": [],
   "source": [
    "bag.add_pokemon(\"ratata\", \"charmander\")"
   ]
  },
  {
   "cell_type": "markdown",
   "metadata": {},
   "source": [
    "This is because Python is a dynamically typed language, i.e. we do not have to define the variable types hence they will be determined __dynamically__ when the program is run. This is in contrast to statically typed languages like Java and C++, where we have to define the variable types before we can use them. If python were statically typed, we would have to define the variable types for the methods in the class definition."
   ]
  },
  {
   "cell_type": "markdown",
   "metadata": {},
   "source": [
    "While we can define variable types in Python, it is meant to ease programming. The type hints are NOT enforced. As a best practice, you could use type hints to indicate variable types all the same, but make sure to remember that they are hints and not variable type assignments. Let's look at the PokeBag example with type hints:"
   ]
  },
  {
   "cell_type": "code",
   "execution_count": 94,
   "metadata": {},
   "outputs": [],
   "source": [
    "# PokeBag class with type hints\n",
    "class PokeBag:\n",
    "    def __init__(self):\n",
    "        self.pokemons = []\n",
    "    def add_pokemon(self, pokemon: str):\n",
    "        self.pokemons.append(pokemon)\n",
    "    def add_pokemon(self, pokemon1: str, pokemon2: str):\n",
    "        self.pokemons.append(pokemon1)\n",
    "        self.pokemons.append(pokemon2)"
   ]
  },
  {
   "cell_type": "markdown",
   "metadata": {},
   "source": [
    "As the developer, I know that I need to pass pokemons as strings:"
   ]
  },
  {
   "cell_type": "code",
   "execution_count": 98,
   "metadata": {},
   "outputs": [
    {
     "data": {
      "text/plain": [
       "['ratata', 'charmander']"
      ]
     },
     "execution_count": 98,
     "metadata": {},
     "output_type": "execute_result"
    }
   ],
   "source": [
    "bag = PokeBag()\n",
    "bag.add_pokemon(\"ratata\", \"charmander\")\n",
    "bag.pokemons"
   ]
  },
  {
   "cell_type": "markdown",
   "metadata": {},
   "source": [
    "But notice that the typing is not enforced:"
   ]
  },
  {
   "cell_type": "code",
   "execution_count": 100,
   "metadata": {},
   "outputs": [
    {
     "data": {
      "text/plain": [
       "['ratata', 2]"
      ]
     },
     "execution_count": 100,
     "metadata": {},
     "output_type": "execute_result"
    }
   ],
   "source": [
    "bag = PokeBag()\n",
    "bag.add_pokemon(\"ratata\", 2)\n",
    "bag.pokemons"
   ]
  },
  {
   "cell_type": "markdown",
   "metadata": {},
   "source": [
    "Dynamic typing is one of the reasons why Python is slower than Java and C++, as there is more work to do when the program is run. With all the drama above, it may seem like method overloading is a pipe dream in Python."
   ]
  },
  {
   "cell_type": "markdown",
   "metadata": {},
   "source": [
    "## *args workaround"
   ]
  },
  {
   "cell_type": "markdown",
   "metadata": {},
   "source": [
    "However, there is a way to achieve method overloading in Python. But first, if we just wish to call the method with an unknown number of arguments, we can just use the *args syntax :"
   ]
  },
  {
   "cell_type": "code",
   "execution_count": 30,
   "metadata": {},
   "outputs": [],
   "source": [
    "class PokeBag:\n",
    "    def __init__(self):\n",
    "        self.pokemons = []\n",
    "    def add_pokemon(self, *pokemons):\n",
    "        for pokemon in pokemons:\n",
    "            self.pokemons.append(pokemon)"
   ]
  },
  {
   "cell_type": "code",
   "execution_count": 31,
   "metadata": {},
   "outputs": [
    {
     "data": {
      "text/plain": [
       "['ratata']"
      ]
     },
     "execution_count": 31,
     "metadata": {},
     "output_type": "execute_result"
    }
   ],
   "source": [
    "bag = PokeBag()\n",
    "bag.add_pokemon(\"ratata\")\n",
    "bag.pokemons"
   ]
  },
  {
   "cell_type": "code",
   "execution_count": 32,
   "metadata": {},
   "outputs": [
    {
     "data": {
      "text/plain": [
       "['pikachu', 'ratata', 'charmander', 'squirtle', 'bulbasaur', 'metapod']"
      ]
     },
     "execution_count": 32,
     "metadata": {},
     "output_type": "execute_result"
    }
   ],
   "source": [
    "bag = PokeBag()\n",
    "bag.add_pokemon(\"pikachu\")\n",
    "bag.add_pokemon(\"ratata\", \"charmander\")\n",
    "bag.add_pokemon(\"squirtle\", \"bulbasaur\", \"metapod\")\n",
    "bag.pokemons"
   ]
  },
  {
   "cell_type": "markdown",
   "metadata": {},
   "source": [
    "However, this is NOT method overloading, since there is no method to overload (we only have one method to add pokemon to the bag). "
   ]
  },
  {
   "cell_type": "markdown",
   "metadata": {},
   "source": [
    "### Method Overloading"
   ]
  },
  {
   "cell_type": "markdown",
   "metadata": {},
   "source": [
    "We CAN achieve method overloading in Python using the library called multipledispatch:\n",
    "<!-- (I am gonna ignore the if else handling of cases since it seems inelegant to me) -->"
   ]
  },
  {
   "cell_type": "code",
   "execution_count": 91,
   "metadata": {},
   "outputs": [],
   "source": [
    "# Source: https://www.geeksforgeeks.org/python-method-overloading/\n",
    "from multipledispatch import dispatch\n",
    "class PokeBag:\n",
    "    def __init__(self):\n",
    "        self.pokemons = []\n",
    "    @dispatch(str)\n",
    "    def add_pokemon(self, pokemon):\n",
    "        self.pokemons.append(pokemon)\n",
    "    @dispatch(str, str)\n",
    "    def add_pokemon(self, pokemon1, pokemon2):\n",
    "        self.pokemons.append(pokemon1)\n",
    "        self.pokemons.append(pokemon2)"
   ]
  },
  {
   "cell_type": "code",
   "execution_count": 96,
   "metadata": {},
   "outputs": [
    {
     "data": {
      "text/plain": [
       "['ratata', 'arbok', 'weezing']"
      ]
     },
     "execution_count": 96,
     "metadata": {},
     "output_type": "execute_result"
    }
   ],
   "source": [
    "bag = PokeBag()\n",
    "bag.add_pokemon(\"ratata\")\n",
    "bag.add_pokemon(\"arbok\", \"weezing\")\n",
    "bag.pokemons"
   ]
  },
  {
   "cell_type": "markdown",
   "metadata": {},
   "source": [
    "Notice that the code that errored out before doesn't error out when we use the @dispatch decorator from multipledispatch library. So, if we really want to achieve method overloading in Python, we can use the method shown above."
   ]
  },
  {
   "cell_type": "markdown",
   "metadata": {},
   "source": [
    "### An exception to the rule"
   ]
  },
  {
   "cell_type": "markdown",
   "metadata": {},
   "source": [
    "There is one thing that python allows you to overload without using the multipledispatch library and that is defining getters, setters and deleters for you instance properties. These are a bit of an exception however, as they are identified by the decorators used to define them. We'll take a look at these when we get to encapsulation."
   ]
  },
  {
   "cell_type": "markdown",
   "metadata": {},
   "source": [
    "I might become a Software Engineer at any second at this rate. Let's move on to the next principle."
   ]
  },
  {
   "cell_type": "markdown",
   "metadata": {},
   "source": [
    "## Abstraction"
   ]
  },
  {
   "cell_type": "markdown",
   "metadata": {},
   "source": [
    "I remember the first time that the word \"abstract\" was explained to me in English class. It was defined as something intangible, something that you could feel but not touch. Something like love, happiness, sadness or adjectives such as soft or hard. \n",
    "\n",
    "When I mention the word- \"soft\", you already have an idea of \"softness\" in your head, but not an exact one. I could be referring to a soft pillow, a soft toy, a soft feeling or even a soft person. The word \"soft\" is abstract and the pillow / toy / feeling / person are concrete examples of abstract concept of the word \"soft\". All the examples are derived from the same idea of \"softness\".\n",
    "\n",
    "Similarly, when it comes to classes we can define an abstract class, which is a class that is not fully formed. It's a blueprint for other classes to be derived from. If we follow the \"soft\" example, we can define an abstract class called \"Soft\" and then derive classes like \"SoftPillow\", \"SoftToy\", \"SoftFeeling\" and \"SoftPerson\" from it."
   ]
  },
  {
   "cell_type": "markdown",
   "metadata": {},
   "source": [
    "Let's go back to the notion of abstract classes being the blueprint for classes. If you recall, in the beginning of this post we mentioned that classes are blueprints (for objects). Hence, as  abstract classes are blueprints for classes, they are... blueprints for blueprints. This is why abstract classes are also called meta classes."
   ]
  },
  {
   "cell_type": "markdown",
   "metadata": {},
   "source": [
    "### Abtract Classes and abstract methods"
   ]
  },
  {
   "cell_type": "markdown",
   "metadata": {},
   "source": [
    "In python, to define abstract classes and abstract methods, we need to import the ABC (Abstract Base Class) module from the abc library. Let's look at an example:"
   ]
  },
  {
   "cell_type": "code",
   "execution_count": 1,
   "metadata": {},
   "outputs": [],
   "source": [
    "from abc import ABC, abstractmethod, abstractproperty\n",
    "class Soft(ABC):\n",
    "    @abstractmethod\n",
    "    def softness(self):\n",
    "        pass"
   ]
  },
  {
   "cell_type": "markdown",
   "metadata": {},
   "source": [
    "Any python class that derives from the Abstract Base Class (ABC) as shown is an abstract class. It is a class that serves as a blueprint for other classes. It's a blueprint because there isn't an actual real implementation of any functionality in the abstract class. Hence, if you try to create an instance / object of the abstract class, it will error out:"
   ]
  },
  {
   "cell_type": "code",
   "execution_count": 2,
   "metadata": {},
   "outputs": [
    {
     "name": "stdout",
     "output_type": "stream",
     "text": [
      "Exception: Can't instantiate abstract class Soft with abstract method softness\n"
     ]
    }
   ],
   "source": [
    "try:\n",
    "    obj = Soft()\n",
    "except Exception as e:\n",
    "    print(f\"Exception: {e}\")"
   ]
  },
  {
   "cell_type": "markdown",
   "metadata": {},
   "source": [
    "This non-instantiation property serves as an easy decision making tool. If you want to allow the creation of parent class objects, use normal inheritance and subclassing. If you do not want to allow the creation of parent class objects, use abstract classes."
   ]
  },
  {
   "cell_type": "markdown",
   "metadata": {},
   "source": [
    "Any child class derived from the parent abstract class (\"Soft\") will need to define the abstract methods mentioned in the parent class. If it doesn't, it will error out. "
   ]
  },
  {
   "cell_type": "code",
   "execution_count": 5,
   "metadata": {},
   "outputs": [],
   "source": [
    "class SoftPillow(Soft):\n",
    "    def not_softness(self):\n",
    "        print(\"I am not a soft pillow as I am missing the abstract method softness()!\")"
   ]
  },
  {
   "cell_type": "code",
   "execution_count": 6,
   "metadata": {},
   "outputs": [
    {
     "name": "stdout",
     "output_type": "stream",
     "text": [
      "Can't instantiate abstract class SoftPillow with abstract method softness\n"
     ]
    }
   ],
   "source": [
    "try:\n",
    "    obj = SoftPillow()\n",
    "    print(obj.not_softness())\n",
    "except Exception as e:\n",
    "    print(e)"
   ]
  },
  {
   "cell_type": "markdown",
   "metadata": {},
   "source": [
    "However, if we implement the abstract method softness() in the SoftPillow class, then we can instantiate the class:"
   ]
  },
  {
   "cell_type": "code",
   "execution_count": 3,
   "metadata": {},
   "outputs": [],
   "source": [
    "class SoftPillow(Soft):\n",
    "    def softness(self):\n",
    "        print(\"I am a super soft Pillow!\")"
   ]
  },
  {
   "cell_type": "code",
   "execution_count": 4,
   "metadata": {},
   "outputs": [
    {
     "name": "stdout",
     "output_type": "stream",
     "text": [
      "I am a super soft Pillow!\n"
     ]
    }
   ],
   "source": [
    "obj = SoftPillow()\n",
    "obj.softness()"
   ]
  },
  {
   "cell_type": "markdown",
   "metadata": {},
   "source": [
    "We could have a mix of abstract and non-abstract methods in an abstract class:"
   ]
  },
  {
   "cell_type": "code",
   "execution_count": 104,
   "metadata": {},
   "outputs": [],
   "source": [
    "class Soft(ABC):\n",
    "    @abstractmethod\n",
    "    def softness(self):\n",
    "        pass\n",
    "\n",
    "    def size(self):\n",
    "        pass"
   ]
  },
  {
   "cell_type": "markdown",
   "metadata": {},
   "source": [
    "The abstract methods are mandatory to be implemented in the child classes, but the non-abstract methods are optional. We illustrate the same below:"
   ]
  },
  {
   "cell_type": "code",
   "execution_count": 105,
   "metadata": {},
   "outputs": [],
   "source": [
    "class SoftPillow(Soft):\n",
    "    def size(self):\n",
    "        print(\"I am a smol Pillow!\")"
   ]
  },
  {
   "cell_type": "code",
   "execution_count": 106,
   "metadata": {},
   "outputs": [
    {
     "name": "stdout",
     "output_type": "stream",
     "text": [
      "Can't instantiate abstract class SoftPillow with abstract method softness\n"
     ]
    }
   ],
   "source": [
    "try:\n",
    "    obj = SoftPillow()\n",
    "    obj.size()\n",
    "except Exception as e:\n",
    "    print(e)"
   ]
  },
  {
   "cell_type": "markdown",
   "metadata": {},
   "source": [
    "Since we didn't have the mandatory abstract method softness() in the SoftPillow class, it errored out. However, we didn't have to implement the optional non-abstract method size(). "
   ]
  },
  {
   "cell_type": "code",
   "execution_count": 107,
   "metadata": {},
   "outputs": [],
   "source": [
    "class Softness(Soft):\n",
    "    def softness(self):\n",
    "        print(\"I am a super soft Pillow!\")"
   ]
  },
  {
   "cell_type": "code",
   "execution_count": 108,
   "metadata": {},
   "outputs": [
    {
     "name": "stdout",
     "output_type": "stream",
     "text": [
      "I am a super soft Pillow!\n"
     ]
    }
   ],
   "source": [
    "obj = Softness()\n",
    "obj.softness()"
   ]
  },
  {
   "cell_type": "markdown",
   "metadata": {},
   "source": [
    "If we implement the mandatory abstract method softness() in the SoftPillow class, then there's no problem."
   ]
  },
  {
   "cell_type": "markdown",
   "metadata": {},
   "source": [
    "### Abstract Properties"
   ]
  },
  {
   "cell_type": "markdown",
   "metadata": {},
   "source": [
    "An abstract class can also have abstract properties and non abtract-properties, just like abstract methods and non-abstract methods. The abstract properties are, surprise, surprise, mandatory to be implemented in the child classes, but the non-abstract properties are optional. Example below:"
   ]
  },
  {
   "cell_type": "code",
   "execution_count": 109,
   "metadata": {},
   "outputs": [],
   "source": [
    "class Soft(ABC):\n",
    "    def __init__(self):\n",
    "        self.price = \"Not defined\"\n",
    "    \n",
    "    @abstractproperty\n",
    "    def get_price(self):\n",
    "        pass"
   ]
  },
  {
   "cell_type": "code",
   "execution_count": 110,
   "metadata": {},
   "outputs": [],
   "source": [
    "class SoftToy(Soft):\n",
    "    def __init__(self):\n",
    "        self.price = \"100\"\n",
    "    \n",
    "    def get_price(self):\n",
    "        return self.price"
   ]
  },
  {
   "cell_type": "code",
   "execution_count": 111,
   "metadata": {},
   "outputs": [
    {
     "data": {
      "text/plain": [
       "'100'"
      ]
     },
     "execution_count": 111,
     "metadata": {},
     "output_type": "execute_result"
    }
   ],
   "source": [
    "obj = SoftToy()\n",
    "obj.get_price()"
   ]
  },
  {
   "cell_type": "markdown",
   "metadata": {},
   "source": [
    "Other than the fact that we're using a different decorator: \"@abstractproperty\" instead of \"@abstractmethod\" there isn't a real difference between the two ([Source: StackOverflow](https://stackoverflow.com/questions/14441619/actual-difference-in-implementing-overriding-using-abstractproperty-and-abstra#:~:text=The%20notion%20is%20correct%3B%20the,to%20the%20ABC%20you%20defined.)).\n",
    "\n",
    "The only convention based nuance is that you would use the \"@abstractproperty\" decorator when you are dealing with properties and the \"@abstractmethod\" decorator when you are dealing with methods. \n",
    "\n",
    "In the example above, we could have used the \"@abstractmethod\" decorator instead of the \"@abstractproperty\" decorator and it would have worked just fine. However, I have used the \"@abstractproperty\" decorator just so we all know that there is an alternative decorator that exists for properties."
   ]
  },
  {
   "cell_type": "markdown",
   "metadata": {},
   "source": [
    "An abstract class can implement some functionality of course, but remember that it cannot be instantiated. It's useful to add implementation to an abstract class if you want to share some common functionality between the child classes. This works in the same way as it does in vanilla inheritance, so we will not look at an example."
   ]
  },
  {
   "cell_type": "markdown",
   "metadata": {},
   "source": [
    "## Encapsulation"
   ]
  },
  {
   "cell_type": "markdown",
   "metadata": {},
   "source": [
    "Encapsulation refers to the process of \"encapsulating\" data and methods together. When we put the data and methods together in such a capsule, we are able to limit access to the data and methods, so that there's no accidental modification."
   ]
  },
  {
   "cell_type": "markdown",
   "metadata": {},
   "source": [
    "There are 3 levels of access modifiers in general, in increasing order of restrictiveness:\n",
    "- Public\n",
    "- Protected\n",
    "- Private"
   ]
  },
  {
   "cell_type": "markdown",
   "metadata": {},
   "source": [
    "Python has its own conventions when it comes to programming. This is glaringly obvious when we look at access modifiers. If you are a C++ / Java person before and are just discovering Python, it might be a little strange, but you'll get used to it soon enough. \n",
    "\n",
    "Typically, in other languages, you would use a keyword to define the access modifier, such as \"public\", \"protected\" or \"private\". For instance in Java:\n",
    "```\n",
    "public static void main(String[] args)\n",
    "```"
   ]
  },
  {
   "cell_type": "markdown",
   "metadata": {},
   "source": [
    "Python uses underscores to distinguish between public, protected and private methods. Let's take a look at each of these in Python, starting with public properties and methods:"
   ]
  },
  {
   "cell_type": "markdown",
   "metadata": {},
   "source": [
    "### Public"
   ]
  },
  {
   "cell_type": "code",
   "execution_count": 90,
   "metadata": {},
   "outputs": [],
   "source": [
    "class Pokemon:\n",
    "    def __init__(self):\n",
    "        self.hp = 100\n",
    "        self.attack = random.randint(0, 100)\n",
    "        self.defense = random.randint(0, 100)\n",
    "    \n",
    "    def speak(self):\n",
    "        print(\"I am a Pokemon!\")"
   ]
  },
  {
   "cell_type": "markdown",
   "metadata": {},
   "source": [
    "Notice the lack of underscores in the property (attack, defense) and method (speak) names. This is the convention for public properties and methods in Python. Very vanilla, nothing new. Properties are public by default. We can access these properties and methods from outside the class as well as from inside the class."
   ]
  },
  {
   "cell_type": "code",
   "execution_count": 92,
   "metadata": {},
   "outputs": [
    {
     "name": "stdout",
     "output_type": "stream",
     "text": [
      "92\n",
      "81\n",
      "I am a Pokemon!\n"
     ]
    }
   ],
   "source": [
    "pokemon = Pokemon()\n",
    "print(pokemon.attack)\n",
    "print(pokemon.defense)\n",
    "pokemon.speak()"
   ]
  },
  {
   "cell_type": "markdown",
   "metadata": {},
   "source": [
    "In the above examples we accessed the attack, defense and speak properties from outside the class. Hence, they are public. Let's now take a look at protected properties and methods:"
   ]
  },
  {
   "cell_type": "markdown",
   "metadata": {},
   "source": [
    "### Protected"
   ]
  },
  {
   "cell_type": "code",
   "execution_count": null,
   "metadata": {},
   "outputs": [],
   "source": [
    "class Pokemon:\n",
    "    def __init__(self):\n",
    "        self._hp = 100\n",
    "        self._attack = random.randint(0, 100)\n",
    "        self._defense = random.randint(0, 100)\n",
    "    \n",
    "    def _speak(self):\n",
    "        print(\"I am a Pokemon!\")"
   ]
  },
  {
   "cell_type": "markdown",
   "metadata": {},
   "source": [
    "The instance properties _hp, _attack and _defense as well as the _speak method are meant to be protected. Just like Python doesn't enforce the variable types mentioned as type hints, it also doesn't enforce the access modifiers."
   ]
  },
  {
   "cell_type": "markdown",
   "metadata": {},
   "source": [
    "Python buys into the notion that [\"We're all adults here\"](https://stackoverflow.com/questions/11483366/protected-method-in-python#:~:text=You%20can't.,supposed%20to%20use%20the%20method.&text=By%20convention%2C%20one%20underscore%20is,two%20underscores%20are%20considered%20private.). While the protected methods can be accessed from outside the class, just like the public methods, we as python programmers CHOOSE not to."
   ]
  },
  {
   "cell_type": "markdown",
   "metadata": {},
   "source": [
    "This means that protected properties need to be accessed via their getters and setters. And protected methods should only be used internally within a class. Let's look at an example:"
   ]
  },
  {
   "cell_type": "markdown",
   "metadata": {},
   "source": [
    "You might sometimes encounter a TypeError when using the @property decorator in .ipynb files. I raised an issue about this on the [VS Code Jupyter github repo](https://github.com/microsoft/vscode-jupyter/issues/14748). If you ever encounter the same error, just restart your VS Code and it will be fixed (unless it's a code error). You can also run the code in a .py file and execute the .py file from the command line like an actual software engineer."
   ]
  },
  {
   "cell_type": "code",
   "execution_count": 5,
   "metadata": {},
   "outputs": [],
   "source": [
    "class Pokemon():\n",
    "    def __init__(self):\n",
    "        self._hp = 100\n",
    "        self._attack = 0\n",
    "        self._defense = 0\n",
    "\n",
    "    @property\n",
    "    def attack(self): # attack getter\n",
    "        return self._attack\n",
    "    \n",
    "    @attack.setter\n",
    "    def attack(self, value):\n",
    "        self._attack = value\n",
    "\n",
    "    @property\n",
    "    def defense(self): # defense getter\n",
    "        return self._defense\n",
    "    \n",
    "    @defense.setter\n",
    "    def defense(self, value):\n",
    "        self._defense = value\n"
   ]
  },
  {
   "cell_type": "code",
   "execution_count": 7,
   "metadata": {},
   "outputs": [
    {
     "name": "stdout",
     "output_type": "stream",
     "text": [
      "The pokemon's attack stat is: 0\n",
      "The pokemon's defense stat is: 0\n",
      "The pokemon's attack stat is: 50\n",
      "The pokemon's defense stat is: 30\n"
     ]
    }
   ],
   "source": [
    "pokemon = Pokemon()\n",
    "print(f\"The pokemon's attack stat is: {pokemon.attack}\")\n",
    "print(f\"The pokemon's defense stat is: {pokemon.defense}\")\n",
    "pokemon.attack = 50\n",
    "pokemon.defense = 30\n",
    "print(f\"The pokemon's attack stat is: {pokemon.attack}\")\n",
    "print(f\"The pokemon's defense stat is: {pokemon.defense}\")"
   ]
  },
  {
   "cell_type": "markdown",
   "metadata": {},
   "source": [
    "Notice that in the above syntax, we do not access the protected properties directly.  Usually, if we had to access a getter function called attack(), we would have called pokemon.attack(). Moreover, if we had a setter function called attack(), we would have set the pokemon's attack using pokemon.attack(some_value). However, since we used the @property decorator,  the function name is treated as a property. When the function is treated as a property, we assign and retrieve values from it as if it were a property. You will be able to contrast this with the non-fancy example that will follow."
   ]
  },
  {
   "cell_type": "markdown",
   "metadata": {},
   "source": [
    "In the example above, we define getters and setters for the protected instance properties. We use some slightly fancy syntax to define the getters and setters, but you can choose not to do so and define them in the usual way. If you notice, this is where the Python method overloading exception comes into play. We defined the getters and setters for the protected instance properties using the same method with a different number of arguments. For instance, for the _attack property, we defined the getter with 0 arguments and the setter with 1 argument."
   ]
  },
  {
   "cell_type": "markdown",
   "metadata": {},
   "source": [
    "If you do choose to use the fancy way to define getters and setters make sure you follow the order, getter before setter and use the appropriate decorators. Here's a small template for you to use:"
   ]
  },
  {
   "cell_type": "code",
   "execution_count": 115,
   "metadata": {},
   "outputs": [],
   "source": [
    "@property\n",
    "def property(self): # property getter\n",
    "    return self._property\n",
    "\n",
    "@property.setter\n",
    "def property(self, value):\n",
    "    self._property = value"
   ]
  },
  {
   "cell_type": "markdown",
   "metadata": {},
   "source": [
    "The non-fancy version:"
   ]
  },
  {
   "cell_type": "code",
   "execution_count": 3,
   "metadata": {},
   "outputs": [],
   "source": [
    "class Pokemon():\n",
    "    def __init__(self):\n",
    "        self._hp = 100\n",
    "        self._attack = 0\n",
    "        self._defense = 0\n",
    "\n",
    "    def get_attack(self): # attack getter\n",
    "        return self._attack\n",
    "    \n",
    "    def set_attack(self, value):\n",
    "        self._attack = value    \n",
    "    \n",
    "    def get_defense(self): # defense getter\n",
    "        return self._defense\n",
    "    \n",
    "    def set_defense(self, value):\n",
    "        self._defense = value"
   ]
  },
  {
   "cell_type": "code",
   "execution_count": 4,
   "metadata": {},
   "outputs": [
    {
     "name": "stdout",
     "output_type": "stream",
     "text": [
      "The pokemon's attack stat is: 0\n",
      "The pokemon's defense stat is: 0\n",
      "The pokemon's attack stat is: 50\n",
      "The pokemon's defense stat is: 30\n"
     ]
    }
   ],
   "source": [
    "pokemon = Pokemon()\n",
    "print(f\"The pokemon's attack stat is: {pokemon.get_attack()}\")\n",
    "print(f\"The pokemon's defense stat is: {pokemon.get_defense()}\")\n",
    "pokemon.set_attack(50)\n",
    "pokemon.set_defense(30)\n",
    "print(f\"The pokemon's attack stat is: {pokemon.get_attack()}\")\n",
    "print(f\"The pokemon's defense stat is: {pokemon.get_defense()}\")"
   ]
  },
  {
   "cell_type": "markdown",
   "metadata": {},
   "source": [
    "While the results are the same, make sure you notice the difference in syntax between the fancy version and the non-fancy version."
   ]
  },
  {
   "cell_type": "markdown",
   "metadata": {},
   "source": [
    "### Private"
   ]
  },
  {
   "cell_type": "markdown",
   "metadata": {},
   "source": [
    "In Python, private properties and methods are defined using double underscores at the beginning of their names. We CANNOT access these private methods and properties from outside the class. Let's look at an example:"
   ]
  },
  {
   "cell_type": "code",
   "execution_count": 15,
   "metadata": {},
   "outputs": [],
   "source": [
    "class Pokemon:\n",
    "    def __init__(self):\n",
    "        self.__hp = 100\n",
    "        self.__attack = random.randint(0, 100)\n",
    "        self.defense = random.randint(0, 100)\n",
    "    \n",
    "    def __speak(self):\n",
    "        print(\"I am a Pokemon!\")"
   ]
  },
  {
   "cell_type": "code",
   "execution_count": 16,
   "metadata": {},
   "outputs": [
    {
     "name": "stdout",
     "output_type": "stream",
     "text": [
      "'Pokemon' object has no attribute '__hp'\n"
     ]
    }
   ],
   "source": [
    "try:\n",
    "    pokemon = Pokemon()\n",
    "    print(pokemon.__hp)\n",
    "except Exception as e:\n",
    "    print(e)"
   ]
  },
  {
   "cell_type": "markdown",
   "metadata": {},
   "source": [
    "The same thing will happen if we try to access the private attack property (__attack) from outside the class. We can compare this with the defense property (note that we use \"defense\" and not \"_defense\" for the comparison, as we are not supposed to use the protected property directly):"
   ]
  },
  {
   "cell_type": "code",
   "execution_count": 17,
   "metadata": {},
   "outputs": [
    {
     "name": "stdout",
     "output_type": "stream",
     "text": [
      "55\n"
     ]
    }
   ],
   "source": [
    "pokemon = Pokemon()\n",
    "print(pokemon.defense)"
   ]
  },
  {
   "cell_type": "markdown",
   "metadata": {},
   "source": [
    "We cannot access the private methods either:"
   ]
  },
  {
   "cell_type": "code",
   "execution_count": 18,
   "metadata": {},
   "outputs": [
    {
     "name": "stdout",
     "output_type": "stream",
     "text": [
      "'Pokemon' object has no attribute '__speak'\n"
     ]
    }
   ],
   "source": [
    "try:\n",
    "    pokemon = Pokemon()\n",
    "    pokemon.__speak()\n",
    "except Exception as e:\n",
    "    print(e)"
   ]
  },
  {
   "cell_type": "markdown",
   "metadata": {},
   "source": [
    "If we really need to access the private methods and properties, for whatever purpose, we can use something called \"name mangling\". Take a look at the class and the modified way to access the private properties and methods:"
   ]
  },
  {
   "cell_type": "code",
   "execution_count": 19,
   "metadata": {},
   "outputs": [],
   "source": [
    "class Pokemon:\n",
    "    def __init__(self):\n",
    "        self.__hp = 100\n",
    "        self.__attack = random.randint(0, 100)\n",
    "        self.defense = random.randint(0, 100)\n",
    "    \n",
    "    def __speak(self):\n",
    "        print(\"I am a Pokemon!\")"
   ]
  },
  {
   "cell_type": "code",
   "execution_count": 23,
   "metadata": {},
   "outputs": [
    {
     "name": "stdout",
     "output_type": "stream",
     "text": [
      "100\n",
      "17\n"
     ]
    }
   ],
   "source": [
    "pokemon = Pokemon()\n",
    "print(pokemon._Pokemon__hp)\n",
    "print(pokemon._Pokemon__attack)"
   ]
  },
  {
   "cell_type": "code",
   "execution_count": 24,
   "metadata": {},
   "outputs": [
    {
     "name": "stdout",
     "output_type": "stream",
     "text": [
      "I am a Pokemon!\n"
     ]
    }
   ],
   "source": [
    "pokemon._Pokemon__speak()"
   ]
  },
  {
   "cell_type": "markdown",
   "metadata": {},
   "source": [
    "At this point, you should be well and truly prepared for any OOPs questions in your Data Science interviews. We are well and truly on our way to becoming a Software Engineer in addition to being Data Scientists ʕ •ᴥ•ʔ. I do recommend that you practice writing code to practice these principles. If you wanna dig deeper into this rabbit hole (I referred to most of these myself while writing this post):\n",
    "   - [super()](https://realpython.com/python-super/)\n",
    "   - [Dive deeper into @property](https://realpython.com/python-property/#creating-read-write-attributes)\n",
    "   - [Getters and setters](https://realpython.com/python-getter-setter/#using-properties-instead-of-getters-and-setters-the-python-way)\n",
    "   - [Should you even be writing a class for this?](https://www.youtube.com/watch?v=o9pEzgHorH0)\n",
    "<!-- #https://twistedsifter.com/2015/06/best-text-emoticons-on-a-single-page/\n",
    "#https://www.textemoji.org/ -->"
   ]
  }
 ],
 "metadata": {
  "kernelspec": {
   "display_name": "oops",
   "language": "python",
   "name": "python3"
  },
  "language_info": {
   "codemirror_mode": {
    "name": "ipython",
    "version": 3
   },
   "file_extension": ".py",
   "mimetype": "text/x-python",
   "name": "python",
   "nbconvert_exporter": "python",
   "pygments_lexer": "ipython3",
   "version": "3.11.5"
  }
 },
 "nbformat": 4,
 "nbformat_minor": 2
}
